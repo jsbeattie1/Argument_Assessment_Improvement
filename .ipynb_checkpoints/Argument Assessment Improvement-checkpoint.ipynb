{
 "cells": [
  {
   "cell_type": "markdown",
   "id": "dc7b1e4e",
   "metadata": {},
   "source": [
    "## Introduction\n",
    "\n",
    "**In the 2021-22 academic year, I implemented a major curriculum change - throughgoing incorporation of argument diagramming exercises (using MindMup: https://www.mindmup.com/tutorials/argument-visualization.html) - in a class that I was teaching on scientific reasoning, evidence, and argumentation.**\n",
    "\n",
    "**I was inspired to make this curricular change, in part, by empirical results I'd seen from a study carried out in Princeton University introductory philosophy classes: https://www.nature.com/articles/s41539-018-0038-5. I decided to gather similar data in my own class to see if the results were similar in a somewhat different setting (9th-graders vs. college freshmen, a class focused on scientific argumentation rather than philosophical argumentation, year-long vs. semester class, online vs. in-person, etc.). I was not able to run this as an experiment or quasi-experiment (as in the Princeton study), but I thought the results in a new setting could still be a useful supplement.**\n",
    "\n",
    "**As in the Princeton study, the main measurable outcome was performance on the LSAT Logical Reasoning section. Students took one such section at the beginning of the year and a different section at the end of the year (with standard time limits, unless students had school-sanctioned accommodations, and with the order of the two sections randomized).** \n",
    "\n",
    "**The results for my class were in line with those seen in the Princeton study: on average, students answered substantially more questions correctly at the end of the year than they did at the beginning. More specifically, depending on how the analysis was done (see below), their scores improved by 1.6 to 2.1 correct answers out of 26 questions. This improvement was highly statistically significant (P=0.0002) and the equivalent of moving from the ~31st to ~45th percentile of LSAT takers.**"
   ]
  },
  {
   "cell_type": "markdown",
   "id": "87b694e9",
   "metadata": {},
   "source": [
    "## Loading & Preparing Data\n",
    "\n",
    "**Note: the data was originally compiled in an Excel spreadsheet with no plan for conversion to a dataframe, so relatively substantial data cleaning turned out to be required (despite the data set being quite small).**"
   ]
  },
  {
   "cell_type": "code",
   "execution_count": 2,
   "id": "ef8fd251",
   "metadata": {},
   "outputs": [],
   "source": [
    "import pandas as pd"
   ]
  },
  {
   "cell_type": "code",
   "execution_count": 3,
   "id": "67fe3015",
   "metadata": {},
   "outputs": [],
   "source": [
    "df = pd.read_csv('Argument Assessment Data.csv')"
   ]
  },
  {
   "cell_type": "code",
   "execution_count": 4,
   "id": "72a66424",
   "metadata": {},
   "outputs": [],
   "source": [
    "# Anonymize \n",
    "df.drop('Name',axis=1,inplace=True)"
   ]
  },
  {
   "cell_type": "code",
   "execution_count": 5,
   "id": "ff9ba85b",
   "metadata": {},
   "outputs": [
    {
     "data": {
      "text/html": [
       "<div>\n",
       "<style scoped>\n",
       "    .dataframe tbody tr th:only-of-type {\n",
       "        vertical-align: middle;\n",
       "    }\n",
       "\n",
       "    .dataframe tbody tr th {\n",
       "        vertical-align: top;\n",
       "    }\n",
       "\n",
       "    .dataframe thead th {\n",
       "        text-align: right;\n",
       "    }\n",
       "</style>\n",
       "<table border=\"1\" class=\"dataframe\">\n",
       "  <thead>\n",
       "    <tr style=\"text-align: right;\">\n",
       "      <th></th>\n",
       "      <th>Group</th>\n",
       "      <th>Pre-test</th>\n",
       "      <th>Pre-test (standardized to 26 max)</th>\n",
       "      <th>Time</th>\n",
       "      <th>Post-test</th>\n",
       "      <th>Post-test (standardized to 26 max)</th>\n",
       "      <th>Time.1</th>\n",
       "    </tr>\n",
       "  </thead>\n",
       "  <tbody>\n",
       "    <tr>\n",
       "      <th>0</th>\n",
       "      <td>1.0</td>\n",
       "      <td>9.0</td>\n",
       "      <td>9.36</td>\n",
       "      <td>32.0</td>\n",
       "      <td>17</td>\n",
       "      <td>NaN</td>\n",
       "      <td>35.0</td>\n",
       "    </tr>\n",
       "    <tr>\n",
       "      <th>1</th>\n",
       "      <td>1.0</td>\n",
       "      <td>8.0</td>\n",
       "      <td>8.32</td>\n",
       "      <td>27.0</td>\n",
       "      <td>18</td>\n",
       "      <td>NaN</td>\n",
       "      <td>17.0</td>\n",
       "    </tr>\n",
       "    <tr>\n",
       "      <th>2</th>\n",
       "      <td>1.0</td>\n",
       "      <td>25.0</td>\n",
       "      <td>26.00</td>\n",
       "      <td>34.0</td>\n",
       "      <td>26-cheat</td>\n",
       "      <td>NaN</td>\n",
       "      <td>35.0</td>\n",
       "    </tr>\n",
       "    <tr>\n",
       "      <th>3</th>\n",
       "      <td>1.0</td>\n",
       "      <td>3.0</td>\n",
       "      <td>3.12</td>\n",
       "      <td>35.0</td>\n",
       "      <td>10</td>\n",
       "      <td>NaN</td>\n",
       "      <td>35.0</td>\n",
       "    </tr>\n",
       "    <tr>\n",
       "      <th>4</th>\n",
       "      <td>1.0</td>\n",
       "      <td>10.0</td>\n",
       "      <td>10.40</td>\n",
       "      <td>35.0</td>\n",
       "      <td>17</td>\n",
       "      <td>NaN</td>\n",
       "      <td>32.0</td>\n",
       "    </tr>\n",
       "    <tr>\n",
       "      <th>...</th>\n",
       "      <td>...</td>\n",
       "      <td>...</td>\n",
       "      <td>...</td>\n",
       "      <td>...</td>\n",
       "      <td>...</td>\n",
       "      <td>...</td>\n",
       "      <td>...</td>\n",
       "    </tr>\n",
       "    <tr>\n",
       "      <th>114</th>\n",
       "      <td>2.0</td>\n",
       "      <td>11.0</td>\n",
       "      <td>NaN</td>\n",
       "      <td>35.0</td>\n",
       "      <td>25-cheat</td>\n",
       "      <td>NaN</td>\n",
       "      <td>14.0</td>\n",
       "    </tr>\n",
       "    <tr>\n",
       "      <th>115</th>\n",
       "      <td>2.0</td>\n",
       "      <td>11.0</td>\n",
       "      <td>NaN</td>\n",
       "      <td>53.0</td>\n",
       "      <td>10</td>\n",
       "      <td>10.40</td>\n",
       "      <td>38.0</td>\n",
       "    </tr>\n",
       "    <tr>\n",
       "      <th>116</th>\n",
       "      <td>2.0</td>\n",
       "      <td>17.0</td>\n",
       "      <td>NaN</td>\n",
       "      <td>24.0</td>\n",
       "      <td>19-cheat</td>\n",
       "      <td>NaN</td>\n",
       "      <td>15.0</td>\n",
       "    </tr>\n",
       "    <tr>\n",
       "      <th>117</th>\n",
       "      <td>2.0</td>\n",
       "      <td>22.0</td>\n",
       "      <td>NaN</td>\n",
       "      <td>16.0</td>\n",
       "      <td>25-cheat</td>\n",
       "      <td>NaN</td>\n",
       "      <td>26.0</td>\n",
       "    </tr>\n",
       "    <tr>\n",
       "      <th>118</th>\n",
       "      <td>2.0</td>\n",
       "      <td>7.0</td>\n",
       "      <td>NaN</td>\n",
       "      <td>35.0</td>\n",
       "      <td>16</td>\n",
       "      <td>16.64</td>\n",
       "      <td>31.0</td>\n",
       "    </tr>\n",
       "  </tbody>\n",
       "</table>\n",
       "<p>119 rows × 7 columns</p>\n",
       "</div>"
      ],
      "text/plain": [
       "     Group  Pre-test  Pre-test (standardized to 26 max)  Time Post-test  \\\n",
       "0      1.0       9.0                               9.36  32.0        17   \n",
       "1      1.0       8.0                               8.32  27.0        18   \n",
       "2      1.0      25.0                              26.00  34.0  26-cheat   \n",
       "3      1.0       3.0                               3.12  35.0        10   \n",
       "4      1.0      10.0                              10.40  35.0        17   \n",
       "..     ...       ...                                ...   ...       ...   \n",
       "114    2.0      11.0                                NaN  35.0  25-cheat   \n",
       "115    2.0      11.0                                NaN  53.0        10   \n",
       "116    2.0      17.0                                NaN  24.0  19-cheat   \n",
       "117    2.0      22.0                                NaN  16.0  25-cheat   \n",
       "118    2.0       7.0                                NaN  35.0        16   \n",
       "\n",
       "     Post-test (standardized to 26 max)  Time.1  \n",
       "0                                   NaN    35.0  \n",
       "1                                   NaN    17.0  \n",
       "2                                   NaN    35.0  \n",
       "3                                   NaN    35.0  \n",
       "4                                   NaN    32.0  \n",
       "..                                  ...     ...  \n",
       "114                                 NaN    14.0  \n",
       "115                               10.40    38.0  \n",
       "116                                 NaN    15.0  \n",
       "117                                 NaN    26.0  \n",
       "118                               16.64    31.0  \n",
       "\n",
       "[119 rows x 7 columns]"
      ]
     },
     "execution_count": 5,
     "metadata": {},
     "output_type": "execute_result"
    }
   ],
   "source": [
    "df"
   ]
  },
  {
   "cell_type": "markdown",
   "id": "e7900eef",
   "metadata": {},
   "source": [
    "**Some scores were highly suspicious, usually because the score was very high AND the online quizzing system logged multiple departures from the browser window containing the quiz. These are flagged in the post-test score column (making it a string datatype rather than integer/float).**\n",
    "\n",
    "**One of the LSAT sections had 25 questions and one had 26. This was standardized by extrapolating the score out of 25. Many of the NaN values are simply blank spaces where the score out of 26 simply needs to be copied (after it is switched from string to integer).**\n"
   ]
  },
  {
   "cell_type": "code",
   "execution_count": 6,
   "id": "8674a3ee",
   "metadata": {},
   "outputs": [
    {
     "name": "stdout",
     "output_type": "stream",
     "text": [
      "<class 'pandas.core.frame.DataFrame'>\n",
      "RangeIndex: 119 entries, 0 to 118\n",
      "Data columns (total 7 columns):\n",
      " #   Column                              Non-Null Count  Dtype  \n",
      "---  ------                              --------------  -----  \n",
      " 0   Group                               118 non-null    float64\n",
      " 1   Pre-test                            110 non-null    float64\n",
      " 2   Pre-test (standardized to 26 max)   57 non-null     float64\n",
      " 3   Time                                110 non-null    float64\n",
      " 4   Post-test                           118 non-null    object \n",
      " 5   Post-test (standardized to 26 max)  47 non-null     float64\n",
      " 6   Time.1                              110 non-null    float64\n",
      "dtypes: float64(6), object(1)\n",
      "memory usage: 6.6+ KB\n"
     ]
    }
   ],
   "source": [
    "df.info()"
   ]
  },
  {
   "cell_type": "code",
   "execution_count": 7,
   "id": "dee13912",
   "metadata": {},
   "outputs": [],
   "source": [
    "# Rename for convenience\n",
    "df = df.rename(columns={'Pre-test':'Pre','Pre-test (standardized to 26 max)':'Pre_26','Time':'Pre_time','Post-test':'Post','Post-test (standardized to 26 max)':'Post_26','Time.1':'Post_time'})"
   ]
  },
  {
   "cell_type": "code",
   "execution_count": 8,
   "id": "dba4bcbf",
   "metadata": {},
   "outputs": [],
   "source": [
    "import numpy as np"
   ]
  },
  {
   "cell_type": "code",
   "execution_count": 9,
   "id": "311252d6",
   "metadata": {},
   "outputs": [],
   "source": [
    "# Create separate column for suspected cheating\n",
    "df['Cheat']= np.where(df['Post'].str.contains('cheat'),1,0)"
   ]
  },
  {
   "cell_type": "code",
   "execution_count": 10,
   "id": "350f2809",
   "metadata": {},
   "outputs": [],
   "source": [
    "# Remove string content from scores \n",
    "df['Post'] = df['Post'].str.replace('-cheat','')"
   ]
  },
  {
   "cell_type": "code",
   "execution_count": 11,
   "id": "10120242",
   "metadata": {},
   "outputs": [
    {
     "data": {
      "text/html": [
       "<div>\n",
       "<style scoped>\n",
       "    .dataframe tbody tr th:only-of-type {\n",
       "        vertical-align: middle;\n",
       "    }\n",
       "\n",
       "    .dataframe tbody tr th {\n",
       "        vertical-align: top;\n",
       "    }\n",
       "\n",
       "    .dataframe thead th {\n",
       "        text-align: right;\n",
       "    }\n",
       "</style>\n",
       "<table border=\"1\" class=\"dataframe\">\n",
       "  <thead>\n",
       "    <tr style=\"text-align: right;\">\n",
       "      <th></th>\n",
       "      <th>Group</th>\n",
       "      <th>Pre</th>\n",
       "      <th>Pre_26</th>\n",
       "      <th>Pre_time</th>\n",
       "      <th>Post</th>\n",
       "      <th>Post_26</th>\n",
       "      <th>Post_time</th>\n",
       "      <th>Cheat</th>\n",
       "    </tr>\n",
       "  </thead>\n",
       "  <tbody>\n",
       "    <tr>\n",
       "      <th>7</th>\n",
       "      <td>1.0</td>\n",
       "      <td>21.0</td>\n",
       "      <td>21.84</td>\n",
       "      <td>31.0</td>\n",
       "      <td>xxxxx</td>\n",
       "      <td>NaN</td>\n",
       "      <td>NaN</td>\n",
       "      <td>0</td>\n",
       "    </tr>\n",
       "    <tr>\n",
       "      <th>25</th>\n",
       "      <td>1.0</td>\n",
       "      <td>NaN</td>\n",
       "      <td>NaN</td>\n",
       "      <td>NaN</td>\n",
       "      <td>NaN</td>\n",
       "      <td>NaN</td>\n",
       "      <td>NaN</td>\n",
       "      <td>1</td>\n",
       "    </tr>\n",
       "    <tr>\n",
       "      <th>26</th>\n",
       "      <td>1.0</td>\n",
       "      <td>NaN</td>\n",
       "      <td>NaN</td>\n",
       "      <td>NaN</td>\n",
       "      <td>9</td>\n",
       "      <td>NaN</td>\n",
       "      <td>31.0</td>\n",
       "      <td>0</td>\n",
       "    </tr>\n",
       "    <tr>\n",
       "      <th>33</th>\n",
       "      <td>1.0</td>\n",
       "      <td>6.0</td>\n",
       "      <td>6.24</td>\n",
       "      <td>22.0</td>\n",
       "      <td>xxxxx</td>\n",
       "      <td>NaN</td>\n",
       "      <td>NaN</td>\n",
       "      <td>0</td>\n",
       "    </tr>\n",
       "    <tr>\n",
       "      <th>52</th>\n",
       "      <td>1.0</td>\n",
       "      <td>6.0</td>\n",
       "      <td>6.24</td>\n",
       "      <td>41.0</td>\n",
       "      <td>xxxxx</td>\n",
       "      <td>NaN</td>\n",
       "      <td>NaN</td>\n",
       "      <td>0</td>\n",
       "    </tr>\n",
       "    <tr>\n",
       "      <th>53</th>\n",
       "      <td>1.0</td>\n",
       "      <td>16.0</td>\n",
       "      <td>16.64</td>\n",
       "      <td>35.0</td>\n",
       "      <td>xxxxx</td>\n",
       "      <td>NaN</td>\n",
       "      <td>NaN</td>\n",
       "      <td>0</td>\n",
       "    </tr>\n",
       "    <tr>\n",
       "      <th>59</th>\n",
       "      <td>NaN</td>\n",
       "      <td>NaN</td>\n",
       "      <td>NaN</td>\n",
       "      <td>NaN</td>\n",
       "      <td>13</td>\n",
       "      <td>NaN</td>\n",
       "      <td>43.0</td>\n",
       "      <td>0</td>\n",
       "    </tr>\n",
       "    <tr>\n",
       "      <th>67</th>\n",
       "      <td>2.0</td>\n",
       "      <td>9.0</td>\n",
       "      <td>NaN</td>\n",
       "      <td>35.0</td>\n",
       "      <td>xxxxx</td>\n",
       "      <td>NaN</td>\n",
       "      <td>NaN</td>\n",
       "      <td>0</td>\n",
       "    </tr>\n",
       "    <tr>\n",
       "      <th>68</th>\n",
       "      <td>2.0</td>\n",
       "      <td>8.0</td>\n",
       "      <td>NaN</td>\n",
       "      <td>35.0</td>\n",
       "      <td>xxxxx</td>\n",
       "      <td>NaN</td>\n",
       "      <td>NaN</td>\n",
       "      <td>0</td>\n",
       "    </tr>\n",
       "    <tr>\n",
       "      <th>71</th>\n",
       "      <td>2.0</td>\n",
       "      <td>NaN</td>\n",
       "      <td>NaN</td>\n",
       "      <td>NaN</td>\n",
       "      <td>11</td>\n",
       "      <td>11.44</td>\n",
       "      <td>22.0</td>\n",
       "      <td>0</td>\n",
       "    </tr>\n",
       "    <tr>\n",
       "      <th>73</th>\n",
       "      <td>2.0</td>\n",
       "      <td>8.0</td>\n",
       "      <td>NaN</td>\n",
       "      <td>27.0</td>\n",
       "      <td>xxxxx</td>\n",
       "      <td>NaN</td>\n",
       "      <td>NaN</td>\n",
       "      <td>0</td>\n",
       "    </tr>\n",
       "    <tr>\n",
       "      <th>90</th>\n",
       "      <td>2.0</td>\n",
       "      <td>NaN</td>\n",
       "      <td>NaN</td>\n",
       "      <td>NaN</td>\n",
       "      <td>6</td>\n",
       "      <td>6.24</td>\n",
       "      <td>22.0</td>\n",
       "      <td>0</td>\n",
       "    </tr>\n",
       "    <tr>\n",
       "      <th>91</th>\n",
       "      <td>2.0</td>\n",
       "      <td>NaN</td>\n",
       "      <td>NaN</td>\n",
       "      <td>NaN</td>\n",
       "      <td>5</td>\n",
       "      <td>5.20</td>\n",
       "      <td>28.0</td>\n",
       "      <td>0</td>\n",
       "    </tr>\n",
       "    <tr>\n",
       "      <th>95</th>\n",
       "      <td>2.0</td>\n",
       "      <td>NaN</td>\n",
       "      <td>NaN</td>\n",
       "      <td>NaN</td>\n",
       "      <td>5</td>\n",
       "      <td>5.20</td>\n",
       "      <td>11.0</td>\n",
       "      <td>0</td>\n",
       "    </tr>\n",
       "    <tr>\n",
       "      <th>97</th>\n",
       "      <td>2.0</td>\n",
       "      <td>NaN</td>\n",
       "      <td>NaN</td>\n",
       "      <td>NaN</td>\n",
       "      <td>9</td>\n",
       "      <td>9.36</td>\n",
       "      <td>35.0</td>\n",
       "      <td>0</td>\n",
       "    </tr>\n",
       "    <tr>\n",
       "      <th>100</th>\n",
       "      <td>2.0</td>\n",
       "      <td>13.0</td>\n",
       "      <td>NaN</td>\n",
       "      <td>35.0</td>\n",
       "      <td>xxxxx</td>\n",
       "      <td>NaN</td>\n",
       "      <td>NaN</td>\n",
       "      <td>0</td>\n",
       "    </tr>\n",
       "    <tr>\n",
       "      <th>101</th>\n",
       "      <td>2.0</td>\n",
       "      <td>NaN</td>\n",
       "      <td>NaN</td>\n",
       "      <td>NaN</td>\n",
       "      <td>11</td>\n",
       "      <td>11.44</td>\n",
       "      <td>22.0</td>\n",
       "      <td>0</td>\n",
       "    </tr>\n",
       "  </tbody>\n",
       "</table>\n",
       "</div>"
      ],
      "text/plain": [
       "     Group   Pre  Pre_26  Pre_time   Post  Post_26  Post_time  Cheat\n",
       "7      1.0  21.0   21.84      31.0  xxxxx      NaN        NaN      0\n",
       "25     1.0   NaN     NaN       NaN    NaN      NaN        NaN      1\n",
       "26     1.0   NaN     NaN       NaN      9      NaN       31.0      0\n",
       "33     1.0   6.0    6.24      22.0  xxxxx      NaN        NaN      0\n",
       "52     1.0   6.0    6.24      41.0  xxxxx      NaN        NaN      0\n",
       "53     1.0  16.0   16.64      35.0  xxxxx      NaN        NaN      0\n",
       "59     NaN   NaN     NaN       NaN     13      NaN       43.0      0\n",
       "67     2.0   9.0     NaN      35.0  xxxxx      NaN        NaN      0\n",
       "68     2.0   8.0     NaN      35.0  xxxxx      NaN        NaN      0\n",
       "71     2.0   NaN     NaN       NaN     11    11.44       22.0      0\n",
       "73     2.0   8.0     NaN      27.0  xxxxx      NaN        NaN      0\n",
       "90     2.0   NaN     NaN       NaN      6     6.24       22.0      0\n",
       "91     2.0   NaN     NaN       NaN      5     5.20       28.0      0\n",
       "95     2.0   NaN     NaN       NaN      5     5.20       11.0      0\n",
       "97     2.0   NaN     NaN       NaN      9     9.36       35.0      0\n",
       "100    2.0  13.0     NaN      35.0  xxxxx      NaN        NaN      0\n",
       "101    2.0   NaN     NaN       NaN     11    11.44       22.0      0"
      ]
     },
     "execution_count": 11,
     "metadata": {},
     "output_type": "execute_result"
    }
   ],
   "source": [
    "# Look for NaN values that are NOT simply a matter of data needing to be copied from another column \n",
    "df[(df['Pre'].isna()) | (df['Pre_time'].isna()) | (df['Post'].isna()) | (df['Post_time'].isna())]"
   ]
  },
  {
   "cell_type": "markdown",
   "id": "ea400590",
   "metadata": {},
   "source": [
    "**These students did not take one or the other of the LSAT sections and will need to be removed.** "
   ]
  },
  {
   "cell_type": "code",
   "execution_count": 12,
   "id": "82a22a65",
   "metadata": {},
   "outputs": [
    {
     "data": {
      "text/html": [
       "<div>\n",
       "<style scoped>\n",
       "    .dataframe tbody tr th:only-of-type {\n",
       "        vertical-align: middle;\n",
       "    }\n",
       "\n",
       "    .dataframe tbody tr th {\n",
       "        vertical-align: top;\n",
       "    }\n",
       "\n",
       "    .dataframe thead th {\n",
       "        text-align: right;\n",
       "    }\n",
       "</style>\n",
       "<table border=\"1\" class=\"dataframe\">\n",
       "  <thead>\n",
       "    <tr style=\"text-align: right;\">\n",
       "      <th></th>\n",
       "      <th>Group</th>\n",
       "      <th>Pre</th>\n",
       "      <th>Pre_26</th>\n",
       "      <th>Pre_time</th>\n",
       "      <th>Post</th>\n",
       "      <th>Post_26</th>\n",
       "      <th>Post_time</th>\n",
       "      <th>Cheat</th>\n",
       "    </tr>\n",
       "  </thead>\n",
       "  <tbody>\n",
       "    <tr>\n",
       "      <th>14</th>\n",
       "      <td>1.0</td>\n",
       "      <td>2.0</td>\n",
       "      <td>2.08</td>\n",
       "      <td>6.0</td>\n",
       "      <td>6-no attempt</td>\n",
       "      <td>NaN</td>\n",
       "      <td>1.0</td>\n",
       "      <td>0</td>\n",
       "    </tr>\n",
       "    <tr>\n",
       "      <th>15</th>\n",
       "      <td>1.0</td>\n",
       "      <td>7.0</td>\n",
       "      <td>7.28</td>\n",
       "      <td>34.0</td>\n",
       "      <td>5-no attempt</td>\n",
       "      <td>NaN</td>\n",
       "      <td>1.0</td>\n",
       "      <td>0</td>\n",
       "    </tr>\n",
       "    <tr>\n",
       "      <th>39</th>\n",
       "      <td>1.0</td>\n",
       "      <td>23.0</td>\n",
       "      <td>23.92</td>\n",
       "      <td>33.0</td>\n",
       "      <td>8-no attempt</td>\n",
       "      <td>NaN</td>\n",
       "      <td>3.0</td>\n",
       "      <td>0</td>\n",
       "    </tr>\n",
       "  </tbody>\n",
       "</table>\n",
       "</div>"
      ],
      "text/plain": [
       "    Group   Pre  Pre_26  Pre_time          Post  Post_26  Post_time  Cheat\n",
       "14    1.0   2.0    2.08       6.0  6-no attempt      NaN        1.0      0\n",
       "15    1.0   7.0    7.28      34.0  5-no attempt      NaN        1.0      0\n",
       "39    1.0  23.0   23.92      33.0  8-no attempt      NaN        3.0      0"
      ]
     },
     "execution_count": 12,
     "metadata": {},
     "output_type": "execute_result"
    }
   ],
   "source": [
    "# Look for students who took very little time on one or both LSAT sections\n",
    "df[(df['Pre_time']<10) | (df['Post_time']<10)]"
   ]
  },
  {
   "cell_type": "markdown",
   "id": "37820e54",
   "metadata": {},
   "source": [
    "**These students took both LSAT sections, but at least one of them was not a genuine effort - very little time was spent on it - so they will need to be removed as well.**"
   ]
  },
  {
   "cell_type": "code",
   "execution_count": 13,
   "id": "4fa18c75",
   "metadata": {},
   "outputs": [],
   "source": [
    "# Keep only those students who made a genuine effort on both LSAT sections\n",
    "df = df[(df['Pre_time']>=10) & (df['Post_time']>=10)]"
   ]
  },
  {
   "cell_type": "code",
   "execution_count": 14,
   "id": "afdc4ed8",
   "metadata": {},
   "outputs": [],
   "source": [
    "# Change datatypes\n",
    "df[['Group','Pre','Pre_time','Post','Post_time']] = df[['Group','Pre','Pre_time','Post','Post_time']].astype(int)"
   ]
  },
  {
   "cell_type": "code",
   "execution_count": 15,
   "id": "e6be5255",
   "metadata": {},
   "outputs": [],
   "source": [
    "# Fill in remaining NaN values by copying over scores (out of 26)\n",
    "df['Pre_26'] = df['Pre_26'].fillna(df['Pre'])\n",
    "df['Post_26'] = df['Post_26'].fillna(df['Post'])"
   ]
  },
  {
   "cell_type": "code",
   "execution_count": 16,
   "id": "0ed5ca8a",
   "metadata": {},
   "outputs": [
    {
     "data": {
      "text/html": [
       "<div>\n",
       "<style scoped>\n",
       "    .dataframe tbody tr th:only-of-type {\n",
       "        vertical-align: middle;\n",
       "    }\n",
       "\n",
       "    .dataframe tbody tr th {\n",
       "        vertical-align: top;\n",
       "    }\n",
       "\n",
       "    .dataframe thead th {\n",
       "        text-align: right;\n",
       "    }\n",
       "</style>\n",
       "<table border=\"1\" class=\"dataframe\">\n",
       "  <thead>\n",
       "    <tr style=\"text-align: right;\">\n",
       "      <th></th>\n",
       "      <th>Group</th>\n",
       "      <th>Pre</th>\n",
       "      <th>Pre_26</th>\n",
       "      <th>Pre_time</th>\n",
       "      <th>Post</th>\n",
       "      <th>Post_26</th>\n",
       "      <th>Post_time</th>\n",
       "      <th>Cheat</th>\n",
       "    </tr>\n",
       "  </thead>\n",
       "  <tbody>\n",
       "  </tbody>\n",
       "</table>\n",
       "</div>"
      ],
      "text/plain": [
       "Empty DataFrame\n",
       "Columns: [Group, Pre, Pre_26, Pre_time, Post, Post_26, Post_time, Cheat]\n",
       "Index: []"
      ]
     },
     "execution_count": 16,
     "metadata": {},
     "output_type": "execute_result"
    }
   ],
   "source": [
    "# Confirm all NaN removed\n",
    "df[df.isna().any(axis=1)]"
   ]
  },
  {
   "cell_type": "markdown",
   "id": "71c357d0",
   "metadata": {},
   "source": [
    "## Statistical Analysis\n",
    "\n",
    "**The analysis will be run twice, once for the complete set of data (including suspicious scores) and once for \"safe\" data (with suspicious scores removed).**"
   ]
  },
  {
   "cell_type": "code",
   "execution_count": 17,
   "id": "b732614d",
   "metadata": {},
   "outputs": [],
   "source": [
    "# Make a dataframe with only non-suspicious scores\n",
    "df_safe = df[df['Cheat']==0]"
   ]
  },
  {
   "cell_type": "code",
   "execution_count": 18,
   "id": "4e33a24e",
   "metadata": {},
   "outputs": [],
   "source": [
    "from scipy.stats import ttest_rel"
   ]
  },
  {
   "cell_type": "markdown",
   "id": "976b5208",
   "metadata": {},
   "source": [
    "**Analysis for complete data set**"
   ]
  },
  {
   "cell_type": "code",
   "execution_count": 19,
   "id": "2b6b8256",
   "metadata": {},
   "outputs": [
    {
     "data": {
      "text/plain": [
       "15.32767676767677"
      ]
     },
     "execution_count": 19,
     "metadata": {},
     "output_type": "execute_result"
    }
   ],
   "source": [
    "df['Post_26'].mean()"
   ]
  },
  {
   "cell_type": "code",
   "execution_count": 20,
   "id": "ec7f4ca2",
   "metadata": {},
   "outputs": [
    {
     "data": {
      "text/plain": [
       "13.194747474747475"
      ]
     },
     "execution_count": 20,
     "metadata": {},
     "output_type": "execute_result"
    }
   ],
   "source": [
    "df['Pre_26'].mean()"
   ]
  },
  {
   "cell_type": "code",
   "execution_count": 21,
   "id": "bc972332",
   "metadata": {},
   "outputs": [
    {
     "data": {
      "text/plain": [
       "2.132929292929296"
      ]
     },
     "execution_count": 21,
     "metadata": {},
     "output_type": "execute_result"
    }
   ],
   "source": [
    "mean_diff = (df['Post_26'].mean() - df['Pre_26'].mean())\n",
    "mean_diff"
   ]
  },
  {
   "cell_type": "code",
   "execution_count": 22,
   "id": "fb4c6da7",
   "metadata": {},
   "outputs": [
    {
     "data": {
      "text/plain": [
       "TtestResult(statistic=4.992870100615817, pvalue=2.5886619414327104e-06, df=98)"
      ]
     },
     "execution_count": 22,
     "metadata": {},
     "output_type": "execute_result"
    }
   ],
   "source": [
    "ttest_rel(df['Post_26'],df['Pre_26'])"
   ]
  },
  {
   "cell_type": "code",
   "execution_count": 23,
   "id": "a94614de",
   "metadata": {},
   "outputs": [
    {
     "data": {
      "text/plain": [
       "ConfidenceInterval(low=1.2851746589985091, high=2.980683926860077)"
      ]
     },
     "execution_count": 23,
     "metadata": {},
     "output_type": "execute_result"
    }
   ],
   "source": [
    "ttest_rel(df['Post_26'],df['Pre_26']).confidence_interval()"
   ]
  },
  {
   "cell_type": "markdown",
   "id": "ef0ff0ad",
   "metadata": {},
   "source": [
    "**The average change over the course of the year is +2.1 correct answers (+/- 0.8)**"
   ]
  },
  {
   "cell_type": "markdown",
   "id": "702ed0c4",
   "metadata": {},
   "source": [
    "**------------------------------**\n",
    "\n",
    "**Analysis for \"safe\" dataset**"
   ]
  },
  {
   "cell_type": "code",
   "execution_count": 24,
   "id": "b979714d",
   "metadata": {},
   "outputs": [
    {
     "data": {
      "text/plain": [
       "14.44183908045977"
      ]
     },
     "execution_count": 24,
     "metadata": {},
     "output_type": "execute_result"
    }
   ],
   "source": [
    "df_safe['Post_26'].mean()"
   ]
  },
  {
   "cell_type": "code",
   "execution_count": 25,
   "id": "aaa7a070",
   "metadata": {},
   "outputs": [
    {
     "data": {
      "text/plain": [
       "12.884597701149426"
      ]
     },
     "execution_count": 25,
     "metadata": {},
     "output_type": "execute_result"
    }
   ],
   "source": [
    "df_safe['Pre_26'].mean()"
   ]
  },
  {
   "cell_type": "code",
   "execution_count": 26,
   "id": "41dd0836",
   "metadata": {},
   "outputs": [
    {
     "data": {
      "text/plain": [
       "1.5572413793103443"
      ]
     },
     "execution_count": 26,
     "metadata": {},
     "output_type": "execute_result"
    }
   ],
   "source": [
    "mean_diff_safe = (df_safe['Post_26'].mean() - df_safe['Pre_26'].mean())\n",
    "mean_diff_safe"
   ]
  },
  {
   "cell_type": "code",
   "execution_count": 27,
   "id": "daa7b05d",
   "metadata": {},
   "outputs": [
    {
     "data": {
      "text/plain": [
       "TtestResult(statistic=3.826344845430636, pvalue=0.0002459417195194516, df=86)"
      ]
     },
     "execution_count": 27,
     "metadata": {},
     "output_type": "execute_result"
    }
   ],
   "source": [
    "ttest_rel(df_safe['Post_26'],df_safe['Pre_26'])"
   ]
  },
  {
   "cell_type": "code",
   "execution_count": 28,
   "id": "efe99b76",
   "metadata": {},
   "outputs": [
    {
     "data": {
      "text/plain": [
       "ConfidenceInterval(low=0.7481942259274843, high=2.366288532693206)"
      ]
     },
     "execution_count": 28,
     "metadata": {},
     "output_type": "execute_result"
    }
   ],
   "source": [
    "ttest_rel(df_safe['Post_26'],df_safe['Pre_26']).confidence_interval()"
   ]
  },
  {
   "cell_type": "markdown",
   "id": "18e2ef45",
   "metadata": {},
   "source": [
    "**The average change over the course of the year is +1.6 correct answers (+/- 0.8)**"
   ]
  },
  {
   "cell_type": "markdown",
   "id": "fdd99e76",
   "metadata": {},
   "source": [
    "## Data Visualization"
   ]
  },
  {
   "cell_type": "code",
   "execution_count": 29,
   "id": "68821539",
   "metadata": {},
   "outputs": [],
   "source": [
    "import matplotlib.pyplot as plt"
   ]
  },
  {
   "cell_type": "markdown",
   "id": "782d0c37",
   "metadata": {},
   "source": [
    "**Plot for complete data set**"
   ]
  },
  {
   "cell_type": "code",
   "execution_count": 30,
   "id": "7c0a7ad9",
   "metadata": {},
   "outputs": [],
   "source": [
    "# Separate those with higher scores on post-test and those with lower scores on post-test\n",
    "df_pos = df[df['Post_26']>=df['Pre_26']]\n",
    "df_neg = df[df['Post_26']<df['Pre_26']]"
   ]
  },
  {
   "cell_type": "code",
   "execution_count": 41,
   "id": "e11081e9",
   "metadata": {},
   "outputs": [
    {
     "data": {
      "image/png": "[encoded data removed]",
      "text/plain": [
       "<Figure size 900x600 with 1 Axes>"
      ]
     },
     "metadata": {},
     "output_type": "display_data"
    }
   ],
   "source": [
    "plt.figure(figsize=(9,6))\n",
    "plt.plot((2,26),(2,26),'k--',linewidth=1)\n",
    "plt.annotate('No change',xy=(22,22),xytext=(22,20),fontsize=8,\n",
    "             arrowprops = dict(arrowstyle=\"->\",connectionstyle=\"angle,angleA=45,angleB=135,rad=10\"))\n",
    "plt.plot(df_pos['Pre_26'],df_pos['Post_26'],'bs',markersize=4)\n",
    "plt.plot(df_neg['Pre_26'],df_neg['Post_26'],'rs',markersize=4)\n",
    "plt.title('Change in Performance on LSAT Argument Assessment Questions')\n",
    "plt.xlabel('Score: Beginning of Year')\n",
    "plt.ylabel('Score: End of Year')\n",
    "plt.text(4,20.5,'Higher score \\nat end of year',color='blue',fontsize=9)\n",
    "plt.text(20,15,'Lower score \\nat end of year',color='red',fontsize=9)\n",
    "plt.text(15.5,6,'Mean change = +2.1 points (+/- 0.8)',color='black',bbox=dict(facecolor='none', edgecolor='black', pad=10.0))\n",
    "plt.show()"
   ]
  },
  {
   "cell_type": "markdown",
   "id": "1188a562",
   "metadata": {},
   "source": [
    "**Plot for \"safe\" dataset**"
   ]
  },
  {
   "cell_type": "code",
   "execution_count": 35,
   "id": "15795c95",
   "metadata": {},
   "outputs": [],
   "source": [
    "# Separate those with higher scores on post-test and those with lower scores on post-test\n",
    "df_safe_pos = df_safe[df_safe['Post_26']>=df_safe['Pre_26']]\n",
    "df_safe_neg = df_safe[df_safe['Post_26']<df_safe['Pre_26']]"
   ]
  },
  {
   "cell_type": "code",
   "execution_count": 42,
   "id": "d445b28d",
   "metadata": {},
   "outputs": [
    {
     "data": {
      "image/png": "[encoded data removed]",
      "text/plain": [
       "<Figure size 900x600 with 1 Axes>"
      ]
     },
     "metadata": {},
     "output_type": "display_data"
    }
   ],
   "source": [
    "plt.figure(figsize=(9,6))\n",
    "plt.plot((2,26),(2,26),'k--',linewidth=1)\n",
    "plt.annotate('No change',xy=(22,22),xytext=(22,20),fontsize=8,\n",
    "             arrowprops = dict(arrowstyle=\"->\",connectionstyle=\"angle,angleA=45,angleB=135,rad=10\"))\n",
    "plt.plot(df_safe_pos['Pre_26'],df_safe_pos['Post_26'],'bs',markersize=4)\n",
    "plt.plot(df_safe_neg['Pre_26'],df_safe_neg['Post_26'],'rs',markersize=4)\n",
    "plt.title('Change in Performance on LSAT Argument Assessment Questions')\n",
    "plt.xlabel('Score: Beginning of Year')\n",
    "plt.ylabel('Score: End of Year')\n",
    "plt.text(4,20.5,'Higher score \\nat end of year',color='blue',fontsize=9)\n",
    "plt.text(20,15,'Lower score \\nat end of year',color='red',fontsize=9)\n",
    "plt.text(15.5,6,'Mean change = +1.6 points (+/- 0.8)',color='black',bbox=dict(facecolor='none', edgecolor='black', pad=10.0))\n",
    "plt.show()"
   ]
  },
  {
   "cell_type": "code",
   "execution_count": null,
   "id": "9595bae2",
   "metadata": {},
   "outputs": [],
   "source": []
  }
 ],
 "metadata": {
  "kernelspec": {
   "display_name": "Python 3 (ipykernel)",
   "language": "python",
   "name": "python3"
  },
  "language_info": {
   "codemirror_mode": {
    "name": "ipython",
    "version": 3
   },
   "file_extension": ".py",
   "mimetype": "text/x-python",
   "name": "python",
   "nbconvert_exporter": "python",
   "pygments_lexer": "ipython3",
   "version": "3.11.0"
  }
 },
 "nbformat": 4,
 "nbformat_minor": 5
}
